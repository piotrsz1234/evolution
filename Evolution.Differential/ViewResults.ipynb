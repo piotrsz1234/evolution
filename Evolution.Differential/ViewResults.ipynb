{
 "cells": [
  {
   "cell_type": "code",
   "execution_count": 13,
   "metadata": {},
   "outputs": [],
   "source": [
    "import pandas as pd\n",
    "import numpy as np\n",
    "import matplotlib.pyplot as plt\n",
    "from os import listdir\n",
    "from os.path import isfile, join"
   ]
  },
  {
   "cell_type": "code",
   "execution_count": 14,
   "metadata": {},
   "outputs": [],
   "source": [
    "def getF(v):\n",
    "    return [0.1, 0.5, 0.8, 1,3, 2][v]\n",
    "\n",
    "def getR(v):\n",
    "    return [0.1, 0.3, 0.5, 0.9, 1][v]\n",
    "\n",
    "def find(data, r, f, fun, mut, gen):\n",
    "    temp = -1\n",
    "    for i in range(len(data)):\n",
    "        item = data[i]\n",
    "        if item[\"R\"] == r and item[\"F\"] == f and item[\"Function\"] == fun and item[\"Mutation\"] == mut and item[\"Generation\"] == gen:\n",
    "            temp = i\n",
    "            break\n",
    "    return temp\n"
   ]
  },
  {
   "cell_type": "code",
   "execution_count": null,
   "metadata": {},
   "outputs": [
    {
     "name": "stdout",
     "output_type": "stream",
     "text": [
      "0 / 3600\n",
      "-1 / 3600\n",
      "1000 / 3600\n",
      "1000 / 3600\n",
      "-1 / 3600\n",
      "2001 / 3600\n",
      "2001 / 3600\n",
      "-1 / 3600\n",
      "3002 / 3600\n",
      "3002 / 3600\n",
      "-1 / 3600\n",
      "4003 / 3600\n",
      "4003 / 3600\n",
      "-1 / 3600\n",
      "5004 / 3600\n",
      "5004 / 3600\n",
      "-1 / 3600\n",
      "6005 / 3600\n",
      "6005 / 3600\n"
     ]
    },
    {
     "ename": "KeyboardInterrupt",
     "evalue": "",
     "output_type": "error",
     "traceback": [
      "\u001b[1;31m---------------------------------------------------------------------------\u001b[0m",
      "\u001b[1;31mKeyboardInterrupt\u001b[0m                         Traceback (most recent call last)",
      "Cell \u001b[1;32mIn[17], line 17\u001b[0m\n\u001b[0;32m     15\u001b[0m gen \u001b[38;5;241m=\u001b[39m \u001b[38;5;28mint\u001b[39m(temp[\u001b[38;5;241m0\u001b[39m]\u001b[38;5;241m.\u001b[39mstrip())\n\u001b[0;32m     16\u001b[0m val \u001b[38;5;241m=\u001b[39m \u001b[38;5;28mfloat\u001b[39m(temp[\u001b[38;5;241m1\u001b[39m]\u001b[38;5;241m.\u001b[39mstrip()) \u001b[38;5;241m/\u001b[39m \u001b[38;5;241m3\u001b[39m\n\u001b[1;32m---> 17\u001b[0m index \u001b[38;5;241m=\u001b[39m \u001b[43mfind\u001b[49m\u001b[43m(\u001b[49m\u001b[43mdata\u001b[49m\u001b[43m,\u001b[49m\u001b[43m \u001b[49m\u001b[43mr\u001b[49m\u001b[43m,\u001b[49m\u001b[43m \u001b[49m\u001b[43mf\u001b[49m\u001b[43m,\u001b[49m\u001b[43m \u001b[49m\u001b[43mfun\u001b[49m\u001b[43m,\u001b[49m\u001b[43m \u001b[49m\u001b[43mmut\u001b[49m\u001b[43m,\u001b[49m\u001b[43m \u001b[49m\u001b[43mgen\u001b[49m\u001b[43m)\u001b[49m\n\u001b[0;32m     19\u001b[0m \u001b[38;5;28;01mif\u001b[39;00m(index \u001b[38;5;241m==\u001b[39m \u001b[38;5;241m-\u001b[39m\u001b[38;5;241m1\u001b[39m):\n\u001b[0;32m     20\u001b[0m     data\u001b[38;5;241m.\u001b[39mappend({\n\u001b[0;32m     21\u001b[0m         \u001b[38;5;124m\"\u001b[39m\u001b[38;5;124mR\u001b[39m\u001b[38;5;124m\"\u001b[39m: r,\n\u001b[0;32m     22\u001b[0m         \u001b[38;5;124m\"\u001b[39m\u001b[38;5;124mF\u001b[39m\u001b[38;5;124m\"\u001b[39m: f,\n\u001b[1;32m   (...)\u001b[0m\n\u001b[0;32m     26\u001b[0m         \u001b[38;5;124m\"\u001b[39m\u001b[38;5;124mValues\u001b[39m\u001b[38;5;124m\"\u001b[39m: val\n\u001b[0;32m     27\u001b[0m     })\n",
      "Cell \u001b[1;32mIn[14], line 11\u001b[0m, in \u001b[0;36mfind\u001b[1;34m(data, r, f, fun, mut, gen)\u001b[0m\n\u001b[0;32m      9\u001b[0m \u001b[38;5;28;01mfor\u001b[39;00m i \u001b[38;5;129;01min\u001b[39;00m \u001b[38;5;28mrange\u001b[39m(\u001b[38;5;28mlen\u001b[39m(data)):\n\u001b[0;32m     10\u001b[0m     item \u001b[38;5;241m=\u001b[39m data[i]\n\u001b[1;32m---> 11\u001b[0m     \u001b[38;5;28;01mif\u001b[39;00m item[\u001b[38;5;124m\"\u001b[39m\u001b[38;5;124mR\u001b[39m\u001b[38;5;124m\"\u001b[39m] \u001b[38;5;241m==\u001b[39m r \u001b[38;5;129;01mand\u001b[39;00m item[\u001b[38;5;124m\"\u001b[39m\u001b[38;5;124mF\u001b[39m\u001b[38;5;124m\"\u001b[39m] \u001b[38;5;241m==\u001b[39m f \u001b[38;5;129;01mand\u001b[39;00m item[\u001b[38;5;124m\"\u001b[39m\u001b[38;5;124mFunction\u001b[39m\u001b[38;5;124m\"\u001b[39m] \u001b[38;5;241m==\u001b[39m fun \u001b[38;5;129;01mand\u001b[39;00m item[\u001b[38;5;124m\"\u001b[39m\u001b[38;5;124mMutation\u001b[39m\u001b[38;5;124m\"\u001b[39m] \u001b[38;5;241m==\u001b[39m mut \u001b[38;5;129;01mand\u001b[39;00m item[\u001b[38;5;124m\"\u001b[39m\u001b[38;5;124mGeneration\u001b[39m\u001b[38;5;124m\"\u001b[39m] \u001b[38;5;241m==\u001b[39m gen:\n\u001b[0;32m     12\u001b[0m         temp \u001b[38;5;241m=\u001b[39m i\n\u001b[0;32m     13\u001b[0m         \u001b[38;5;28;01mbreak\u001b[39;00m\n",
      "\u001b[1;31mKeyboardInterrupt\u001b[0m: "
     ]
    }
   ],
   "source": [
    "path = './bin/Debug/net9.0/outputs'\n",
    "files = [f for f in listdir(path) if isfile(join(path, f))]\n",
    "data = []\n",
    "index= 1\n",
    "for file in files:\n",
    "    print(index, \"/\", \"3600\")\n",
    "    index+= 1\n",
    "    tokens = file.split('_')\n",
    "    r = getR(int(tokens[0]))\n",
    "    f = getF(int(tokens[1]))\n",
    "    fun = tokens[2]\n",
    "    mut = tokens[3]\n",
    "    fileHandle = open('./bin/Debug/net9.0/outputs/' + file,'r')\n",
    "    for i in fileHandle.readlines()[1:]:\n",
    "        temp = i.split(',')\n",
    "        gen = int(temp[0].strip())\n",
    "        val = float(temp[1].strip()) / 3\n",
    "        index = find(data, r, f, fun, mut, gen)\n",
    "\n",
    "        if(index == -1):\n",
    "            data.append({\n",
    "                \"R\": r,\n",
    "                \"F\": f,\n",
    "                \"Function\": fun,\n",
    "                \"Mutation\": mut,\n",
    "                \"Generation\": gen,\n",
    "                \"Values\": val\n",
    "            })\n",
    "        else:\n",
    "            data[index][\"Values\"] += val\n",
    "\n",
    "df = pd.DateFrame(data)\n"
   ]
  }
 ],
 "metadata": {
  "kernelspec": {
   "display_name": "Python 3",
   "language": "python",
   "name": "python3"
  },
  "language_info": {
   "codemirror_mode": {
    "name": "ipython",
    "version": 3
   },
   "file_extension": ".py",
   "mimetype": "text/x-python",
   "name": "python",
   "nbconvert_exporter": "python",
   "pygments_lexer": "ipython3",
   "version": "3.12.8"
  }
 },
 "nbformat": 4,
 "nbformat_minor": 2
}
